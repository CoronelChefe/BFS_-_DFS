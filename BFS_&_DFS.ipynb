{
  "nbformat": 4,
  "nbformat_minor": 0,
  "metadata": {
    "kernelspec": {
      "display_name": "Python 3",
      "language": "python",
      "name": "python3"
    },
    "language_info": {
      "codemirror_mode": {
        "name": "ipython",
        "version": 3
      },
      "file_extension": ".py",
      "mimetype": "text/x-python",
      "name": "python",
      "nbconvert_exporter": "python",
      "pygments_lexer": "ipython3",
      "version": "3.7.9"
    },
    "colab": {
      "name": "BFS_&_DFS.ipynb",
      "provenance": [],
      "include_colab_link": true
    }
  },
  "cells": [
    {
      "cell_type": "markdown",
      "metadata": {
        "id": "view-in-github",
        "colab_type": "text"
      },
      "source": [
        "<a href=\"https://colab.research.google.com/github/CoronelChefe/BFS_-_DFS/blob/main/BFS_%26_DFS.ipynb\" target=\"_parent\"><img src=\"https://colab.research.google.com/assets/colab-badge.svg\" alt=\"Open In Colab\"/></a>"
      ]
    },
    {
      "cell_type": "code",
      "metadata": {
        "id": "OzsEGMc8HrIG"
      },
      "source": [
        "import numpy as np"
      ],
      "execution_count": null,
      "outputs": []
    },
    {
      "cell_type": "code",
      "metadata": {
        "id": "hTJxvyXBHrIL"
      },
      "source": [
        "def ini_DFS(n_V):\n",
        "    vertices = []\n",
        "    PE = []\n",
        "    PS = []\n",
        "    pai = []\n",
        "    \n",
        "    for i in range(n_V):\n",
        "        vertices.append(i)\n",
        "        PE.append(0)\n",
        "        PS.append(0)\n",
        "        pai.append(None)\n",
        "    \n",
        "    return vertices,PE,PS,pai\n",
        "\n",
        "def ini_BFS(n_V):\n",
        "    vertices = []\n",
        "    L = []\n",
        "    pai = []\n",
        "    nivel = []\n",
        "    \n",
        "    for i in range(n_V):\n",
        "        vertices.append(i)\n",
        "        L.append(0)\n",
        "        pai.append(None)\n",
        "        nivel.append(0)\n",
        "    \n",
        "    return vertices,L,pai,nivel\n",
        "\n",
        "def retorna_ind(arestas,v1,v2):\n",
        "    try:\n",
        "        ind = arestas.index([v1, v2]) \n",
        "        \n",
        "    except:\n",
        "        ind = arestas.index([v2,v1])\n",
        "        \n",
        "    return ind"
      ],
      "execution_count": null,
      "outputs": []
    },
    {
      "cell_type": "code",
      "metadata": {
        "id": "0U3tnV1_HrIM"
      },
      "source": [
        "path = \"graph_3\"\n",
        "arq = open(path,'r')\n",
        "\n",
        "G = [linha.rstrip() for linha in arq]\n",
        "G[0] = int(G[0])\n",
        "n_V = G[0]\n",
        "G.remove(n_V)\n",
        "\n",
        "for i in range(len(G)):\n",
        "    G[i] = G[i].split(' ')\n",
        "\n",
        "    for j in range(len(G[i])):\n",
        "        G[i][j] = int(G[i][j])\n",
        "\n",
        "arq.close()\n",
        "        \n",
        "G = np.array(G)"
      ],
      "execution_count": 4,
      "outputs": []
    },
    {
      "cell_type": "code",
      "metadata": {
        "id": "Zjob5NzZHrIN"
      },
      "source": [
        "m,n = G.shape\n",
        "lista_adj = {}\n",
        "arestas = []\n",
        "\n",
        "for i in range(m):\n",
        "    lista = []\n",
        "    \n",
        "    for j in range(n):\n",
        "        if G[i][j] == 1:\n",
        "            lista.append(j)\n",
        "\n",
        "        lista_adj[i] = lista\n",
        "        \n",
        "for i in range(m):\n",
        "    for j in range(i,m):\n",
        "        if G[i][j] == 1:\n",
        "            arestas.append([i,j])"
      ],
      "execution_count": 5,
      "outputs": []
    },
    {
      "cell_type": "code",
      "metadata": {
        "id": "c3Ze6MQ7HrIO"
      },
      "source": [
        "vertices_dfs, PE_dfs, PS_dfs ,pai_dfs = ini_DFS(n_V)\n",
        "cor_dfs = [None for i in arestas]\n",
        "\n",
        "def DFS(root):\n",
        "    t = 0\n",
        "    root = vertices_dfs[root]\n",
        "    t = t + 1 \n",
        "        \n",
        "    PE_dfs[root] = t\n",
        "        \n",
        "    for w in lista_adj[root]:\n",
        "        if PE_dfs[w] == 0:\n",
        "            ind = retorna_ind(arestas,root,w)\n",
        "            cor_dfs[ind] = '0,0,255'\n",
        "            pai_dfs[w] = root\n",
        "            DFS(w)\n",
        "            \n",
        "        else:\n",
        "            if PS_dfs[w] == 0 and w != pai_dfs[root]:\n",
        "                ind = retorna_ind(arestas,root,w)\n",
        "                cor_dfs[ind] = '255,0,0'\n",
        "                \n",
        "    t = t + 1\n",
        "    PS_dfs[root] = t"
      ],
      "execution_count": 6,
      "outputs": []
    },
    {
      "cell_type": "code",
      "metadata": {
        "id": "rx-PgAB4HrIP"
      },
      "source": [
        "vertices_bfs,L_bfs,pai_bfs,nivel_bfs = ini_BFS(n_V)\n",
        "cor_bfs = [None for i in arestas]\n",
        "\n",
        "def BFS():\n",
        "    t = 0\n",
        "    fila_aux = []\n",
        "        \n",
        "    for v in lista_adj:\n",
        "        if L_bfs[v] == 0:\n",
        "            nivel_bfs[v] = 0\n",
        "            t = t + 1\n",
        "            L_bfs[v] = t\n",
        "            fila_aux.append(v)\n",
        "                \n",
        "            while len(fila_aux) != 0:\n",
        "                vert = fila_aux[0]\n",
        "                fila_aux.pop(0)\n",
        "                    \n",
        "                for w in lista_adj[vert]:\n",
        "                    if L_bfs[w] == 0:\n",
        "                        ind = retorna_ind(arestas,vert,w)\n",
        "                        cor_bfs[ind] = '0,0,255'\n",
        "                        pai_bfs[w] = vert\n",
        "                        nivel_bfs[w] = nivel_bfs[vert] + 1\n",
        "                        t = t + 1\n",
        "                        L_bfs[w] = t\n",
        "                        fila_aux.append(w)\n",
        "                        \n",
        "                    else:\n",
        "                        if nivel_bfs[w] == nivel_bfs[vert]:\n",
        "                            if pai_bfs[w] == pai_bfs[vert]:\n",
        "                                ind = retorna_ind(arestas,vert,w)\n",
        "                                cor_bfs[ind] = '255,0,0'\n",
        "                                \n",
        "                            else:\n",
        "                                ind = retorna_ind(arestas,vert,w)\n",
        "                                cor_bfs[ind] = '255,255,0'\n",
        "                        else:\n",
        "                            if nivel_bfs[w] == nivel_bfs[vert] + 1:\n",
        "                                ind = retorna_ind(arestas,vert,w)\n",
        "                                cor_bfs[ind] = '0,255,0'"
      ],
      "execution_count": 7,
      "outputs": []
    },
    {
      "cell_type": "code",
      "metadata": {
        "id": "ITxVBTJ0HrIQ"
      },
      "source": [
        "def cria_arquivo(filename,cor):\n",
        "    a = open(f'{filename}.gdf', 'w');\n",
        "    ordem = n_V\n",
        "\n",
        "    a.write('nodedef>name VARCHAR,label VARCHAR\\n')\n",
        "    for i in range(ordem):\n",
        "        a.write('{},{}\\n'.format(i+1,i+1))\n",
        "\n",
        "    a.write('edgedef>node1 VARCHAR,node2 VARCHAR,directed BOOLEAN,color VARCHAR\\n')\n",
        "    for edge in arestas:\n",
        "        v1 = edge[0]\n",
        "        v2 = edge[1]\n",
        "        ind = retorna_ind(arestas,v1,v2)\n",
        "        color = cor[ind]\n",
        "        a.write('{},{},false,\\'{}\\'\\n'.format(v1+1,v2+1,color))\n",
        "\n",
        "    a.close()"
      ],
      "execution_count": 8,
      "outputs": []
    },
    {
      "cell_type": "code",
      "metadata": {
        "id": "7eo56gHLHrIR"
      },
      "source": [
        "BFS()\n",
        "cria_arquivo('graph_3_bfs',cor_bfs)"
      ],
      "execution_count": 9,
      "outputs": []
    },
    {
      "cell_type": "code",
      "metadata": {
        "id": "zjSsyqo4HrIS"
      },
      "source": [
        "DFS(0)\n",
        "cria_arquivo('graph_3_dfs',cor_dfs)"
      ],
      "execution_count": 10,
      "outputs": []
    },
    {
      "cell_type": "code",
      "metadata": {
        "id": "qTZ55GcUHrIS"
      },
      "source": [
        ""
      ],
      "execution_count": null,
      "outputs": []
    }
  ]
}